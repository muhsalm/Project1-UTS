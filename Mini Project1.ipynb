{
 "cells": [
  {
   "cell_type": "code",
   "execution_count": 3,
   "id": "58e6b9fa-bfbd-4221-aade-eac5b5f7d85b",
   "metadata": {
    "tags": []
   },
   "outputs": [
    {
     "name": "stdout",
     "output_type": "stream",
     "text": [
      "Requirement already satisfied: ucimlrepo in c:\\users\\saads\\anaconda3\\lib\\site-packages (0.0.6)\n",
      "Note: you may need to restart the kernel to use updated packages.\n"
     ]
    }
   ],
   "source": [
    "pip install ucimlrepo"
   ]
  },
  {
   "cell_type": "code",
   "execution_count": 4,
   "id": "0e1588e0-e08c-4aee-ab34-a444547e1008",
   "metadata": {
    "tags": []
   },
   "outputs": [
    {
     "name": "stdout",
     "output_type": "stream",
     "text": [
      "{'uci_id': 45, 'name': 'Heart Disease', 'repository_url': 'https://archive.ics.uci.edu/dataset/45/heart+disease', 'data_url': 'https://archive.ics.uci.edu/static/public/45/data.csv', 'abstract': '4 databases: Cleveland, Hungary, Switzerland, and the VA Long Beach', 'area': 'Health and Medicine', 'tasks': ['Classification'], 'characteristics': ['Multivariate'], 'num_instances': 303, 'num_features': 13, 'feature_types': ['Categorical', 'Integer', 'Real'], 'demographics': ['Age', 'Sex'], 'target_col': ['num'], 'index_col': None, 'has_missing_values': 'yes', 'missing_values_symbol': 'NaN', 'year_of_dataset_creation': 1989, 'last_updated': 'Fri Nov 03 2023', 'dataset_doi': '10.24432/C52P4X', 'creators': ['Andras Janosi', 'William Steinbrunn', 'Matthias Pfisterer', 'Robert Detrano'], 'intro_paper': {'title': 'International application of a new probability algorithm for the diagnosis of coronary artery disease.', 'authors': 'R. Detrano, A. Jánosi, W. Steinbrunn, M. Pfisterer, J. Schmid, S. Sandhu, K. Guppy, S. Lee, V. Froelicher', 'published_in': 'American Journal of Cardiology', 'year': 1989, 'url': 'https://www.semanticscholar.org/paper/a7d714f8f87bfc41351eb5ae1e5472f0ebbe0574', 'doi': None}, 'additional_info': {'summary': 'This database contains 76 attributes, but all published experiments refer to using a subset of 14 of them.  In particular, the Cleveland database is the only one that has been used by ML researchers to date.  The \"goal\" field refers to the presence of heart disease in the patient.  It is integer valued from 0 (no presence) to 4. Experiments with the Cleveland database have concentrated on simply attempting to distinguish presence (values 1,2,3,4) from absence (value 0).  \\n   \\nThe names and social security numbers of the patients were recently removed from the database, replaced with dummy values.\\n\\nOne file has been \"processed\", that one containing the Cleveland database.  All four unprocessed files also exist in this directory.\\n\\nTo see Test Costs (donated by Peter Turney), please see the folder \"Costs\" ', 'purpose': None, 'funded_by': None, 'instances_represent': None, 'recommended_data_splits': None, 'sensitive_data': None, 'preprocessing_description': None, 'variable_info': 'Only 14 attributes used:\\r\\n      1. #3  (age)       \\r\\n      2. #4  (sex)       \\r\\n      3. #9  (cp)        \\r\\n      4. #10 (trestbps)  \\r\\n      5. #12 (chol)      \\r\\n      6. #16 (fbs)       \\r\\n      7. #19 (restecg)   \\r\\n      8. #32 (thalach)   \\r\\n      9. #38 (exang)     \\r\\n      10. #40 (oldpeak)   \\r\\n      11. #41 (slope)     \\r\\n      12. #44 (ca)        \\r\\n      13. #51 (thal)      \\r\\n      14. #58 (num)       (the predicted attribute)\\r\\n\\r\\nComplete attribute documentation:\\r\\n      1 id: patient identification number\\r\\n      2 ccf: social security number (I replaced this with a dummy value of 0)\\r\\n      3 age: age in years\\r\\n      4 sex: sex (1 = male; 0 = female)\\r\\n      5 painloc: chest pain location (1 = substernal; 0 = otherwise)\\r\\n      6 painexer (1 = provoked by exertion; 0 = otherwise)\\r\\n      7 relrest (1 = relieved after rest; 0 = otherwise)\\r\\n      8 pncaden (sum of 5, 6, and 7)\\r\\n      9 cp: chest pain type\\r\\n        -- Value 1: typical angina\\r\\n        -- Value 2: atypical angina\\r\\n        -- Value 3: non-anginal pain\\r\\n        -- Value 4: asymptomatic\\r\\n     10 trestbps: resting blood pressure (in mm Hg on admission to the hospital)\\r\\n     11 htn\\r\\n     12 chol: serum cholestoral in mg/dl\\r\\n     13 smoke: I believe this is 1 = yes; 0 = no (is or is not a smoker)\\r\\n     14 cigs (cigarettes per day)\\r\\n     15 years (number of years as a smoker)\\r\\n     16 fbs: (fasting blood sugar > 120 mg/dl)  (1 = true; 0 = false)\\r\\n     17 dm (1 = history of diabetes; 0 = no such history)\\r\\n     18 famhist: family history of coronary artery disease (1 = yes; 0 = no)\\r\\n     19 restecg: resting electrocardiographic results\\r\\n        -- Value 0: normal\\r\\n        -- Value 1: having ST-T wave abnormality (T wave inversions and/or ST elevation or depression of > 0.05 mV)\\r\\n        -- Value 2: showing probable or definite left ventricular hypertrophy by Estes\\' criteria\\r\\n     20 ekgmo (month of exercise ECG reading)\\r\\n     21 ekgday(day of exercise ECG reading)\\r\\n     22 ekgyr (year of exercise ECG reading)\\r\\n     23 dig (digitalis used furing exercise ECG: 1 = yes; 0 = no)\\r\\n     24 prop (Beta blocker used during exercise ECG: 1 = yes; 0 = no)\\r\\n     25 nitr (nitrates used during exercise ECG: 1 = yes; 0 = no)\\r\\n     26 pro (calcium channel blocker used during exercise ECG: 1 = yes; 0 = no)\\r\\n     27 diuretic (diuretic used used during exercise ECG: 1 = yes; 0 = no)\\r\\n     28 proto: exercise protocol\\r\\n          1 = Bruce     \\r\\n          2 = Kottus\\r\\n          3 = McHenry\\r\\n          4 = fast Balke\\r\\n          5 = Balke\\r\\n          6 = Noughton \\r\\n          7 = bike 150 kpa min/min  (Not sure if \"kpa min/min\" is what was written!)\\r\\n          8 = bike 125 kpa min/min  \\r\\n          9 = bike 100 kpa min/min\\r\\n         10 = bike 75 kpa min/min\\r\\n         11 = bike 50 kpa min/min\\r\\n         12 = arm ergometer\\r\\n     29 thaldur: duration of exercise test in minutes\\r\\n     30 thaltime: time when ST measure depression was noted\\r\\n     31 met: mets achieved\\r\\n     32 thalach: maximum heart rate achieved\\r\\n     33 thalrest: resting heart rate\\r\\n     34 tpeakbps: peak exercise blood pressure (first of 2 parts)\\r\\n     35 tpeakbpd: peak exercise blood pressure (second of 2 parts)\\r\\n     36 dummy\\r\\n     37 trestbpd: resting blood pressure\\r\\n     38 exang: exercise induced angina (1 = yes; 0 = no)\\r\\n     39 xhypo: (1 = yes; 0 = no)\\r\\n     40 oldpeak = ST depression induced by exercise relative to rest\\r\\n     41 slope: the slope of the peak exercise ST segment\\r\\n        -- Value 1: upsloping\\r\\n        -- Value 2: flat\\r\\n        -- Value 3: downsloping\\r\\n     42 rldv5: height at rest\\r\\n     43 rldv5e: height at peak exercise\\r\\n     44 ca: number of major vessels (0-3) colored by flourosopy\\r\\n     45 restckm: irrelevant\\r\\n     46 exerckm: irrelevant\\r\\n     47 restef: rest raidonuclid (sp?) ejection fraction\\r\\n     48 restwm: rest wall (sp?) motion abnormality\\r\\n        0 = none\\r\\n        1 = mild or moderate\\r\\n        2 = moderate or severe\\r\\n        3 = akinesis or dyskmem (sp?)\\r\\n     49 exeref: exercise radinalid (sp?) ejection fraction\\r\\n     50 exerwm: exercise wall (sp?) motion \\r\\n     51 thal: 3 = normal; 6 = fixed defect; 7 = reversable defect\\r\\n     52 thalsev: not used\\r\\n     53 thalpul: not used\\r\\n     54 earlobe: not used\\r\\n     55 cmo: month of cardiac cath (sp?)  (perhaps \"call\")\\r\\n     56 cday: day of cardiac cath (sp?)\\r\\n     57 cyr: year of cardiac cath (sp?)\\r\\n     58 num: diagnosis of heart disease (angiographic disease status)\\r\\n        -- Value 0: < 50% diameter narrowing\\r\\n        -- Value 1: > 50% diameter narrowing\\r\\n        (in any major vessel: attributes 59 through 68 are vessels)\\r\\n     59 lmt\\r\\n     60 ladprox\\r\\n     61 laddist\\r\\n     62 diag\\r\\n     63 cxmain\\r\\n     64 ramus\\r\\n     65 om1\\r\\n     66 om2\\r\\n     67 rcaprox\\r\\n     68 rcadist\\r\\n     69 lvx1: not used\\r\\n     70 lvx2: not used\\r\\n     71 lvx3: not used\\r\\n     72 lvx4: not used\\r\\n     73 lvf: not used\\r\\n     74 cathef: not used\\r\\n     75 junk: not used\\r\\n     76 name: last name of patient  (I replaced this with the dummy string \"name\")', 'citation': None}}\n",
      "        name     role         type demographic  \\\n",
      "0        age  Feature      Integer         Age   \n",
      "1        sex  Feature  Categorical         Sex   \n",
      "2         cp  Feature  Categorical        None   \n",
      "3   trestbps  Feature      Integer        None   \n",
      "4       chol  Feature      Integer        None   \n",
      "5        fbs  Feature  Categorical        None   \n",
      "6    restecg  Feature  Categorical        None   \n",
      "7    thalach  Feature      Integer        None   \n",
      "8      exang  Feature  Categorical        None   \n",
      "9    oldpeak  Feature      Integer        None   \n",
      "10     slope  Feature  Categorical        None   \n",
      "11        ca  Feature      Integer        None   \n",
      "12      thal  Feature  Categorical        None   \n",
      "13       num   Target      Integer        None   \n",
      "\n",
      "                                          description  units missing_values  \n",
      "0                                                None  years             no  \n",
      "1                                                None   None             no  \n",
      "2                                                None   None             no  \n",
      "3   resting blood pressure (on admission to the ho...  mm Hg             no  \n",
      "4                                   serum cholestoral  mg/dl             no  \n",
      "5                     fasting blood sugar > 120 mg/dl   None             no  \n",
      "6                                                None   None             no  \n",
      "7                         maximum heart rate achieved   None             no  \n",
      "8                             exercise induced angina   None             no  \n",
      "9   ST depression induced by exercise relative to ...   None             no  \n",
      "10                                               None   None             no  \n",
      "11  number of major vessels (0-3) colored by flour...   None            yes  \n",
      "12                                               None   None            yes  \n",
      "13                         diagnosis of heart disease   None             no  \n"
     ]
    }
   ],
   "source": [
    "from ucimlrepo import fetch_ucirepo \n",
    "  \n",
    "# fetch dataset \n",
    "heart_disease = fetch_ucirepo(id=45) \n",
    "  \n",
    "# data (as pandas dataframes) \n",
    "X = heart_disease.data.features \n",
    "y = heart_disease.data.targets \n",
    "  \n",
    "# metadata \n",
    "print(heart_disease.metadata) \n",
    "  \n",
    "# variable information \n",
    "print(heart_disease.variables) \n"
   ]
  },
  {
   "cell_type": "code",
   "execution_count": 5,
   "id": "6739e109-69fb-406b-8c0b-f4b303c6fc9b",
   "metadata": {
    "tags": []
   },
   "outputs": [
    {
     "name": "stdout",
     "output_type": "stream",
     "text": [
      "Original Dataset:\n",
      "    age  anaemia  creatinine_phosphokinase  diabetes  ejection_fraction  \\\n",
      "0  75.0        0                       582         0                 20   \n",
      "1  55.0        0                      7861         0                 38   \n",
      "2  65.0        0                       146         0                 20   \n",
      "3  50.0        1                       111         0                 20   \n",
      "4  65.0        1                       160         1                 20   \n",
      "\n",
      "   high_blood_pressure  platelets  serum_creatinine  serum_sodium  sex  \\\n",
      "0                    1  265000.00               1.9           130    1   \n",
      "1                    0  263358.03               1.1           136    1   \n",
      "2                    0  162000.00               1.3           129    1   \n",
      "3                    0  210000.00               1.9           137    1   \n",
      "4                    0  327000.00               2.7           116    0   \n",
      "\n",
      "   smoking  time  DEATH_EVENT  \n",
      "0        0     4            1  \n",
      "1        0     6            1  \n",
      "2        1     7            1  \n",
      "3        0     7            1  \n",
      "4        0     8            1  \n"
     ]
    }
   ],
   "source": [
    "# Cleaning: Use 3 methods for missing values (Cleaning). As the csv file has no missing values, just remove some values from the csv yourself (tell Amin which values you removed) e.g. one from sex etc. Then  preform the cleaning and explain how you have cleaned the data (refer to use case jupyter notebooks for help). Cleaning of missing values using back fill or mean etc etc.\n",
    "\n",
    "\n",
    "import pandas as pd\n",
    "import numpy as np\n",
    "\n",
    "# Load the dataset\n",
    "file_path = r\"C:\\Users\\saads\\Desktop\\Data science\\my project\\mini project 1\\heart_failure_clinical_records_dataset.csv\"\n",
    "data = pd.read_csv(file_path)\n",
    "\n",
    "print(\"Original Dataset:\")\n",
    "print(data.head())\n",
    "\n"
   ]
  },
  {
   "cell_type": "code",
   "execution_count": 7,
   "id": "1a7381c6-4186-406e-8576-faa435e4cf53",
   "metadata": {
    "tags": []
   },
   "outputs": [
    {
     "name": "stdout",
     "output_type": "stream",
     "text": [
      "\n",
      "Dataset with Missing Values:\n",
      "    age  anaemia  creatinine_phosphokinase  diabetes  ejection_fraction  \\\n",
      "0  75.0        0                       582         0                 20   \n",
      "1   NaN        0                      7861         0                 38   \n",
      "2  65.0        0                       146         0                 20   \n",
      "3  50.0        1                       111         0                 20   \n",
      "4  65.0        1                       160         1                 20   \n",
      "\n",
      "   high_blood_pressure  platelets  serum_creatinine  serum_sodium  sex  \\\n",
      "0                    1  265000.00               1.9           130  1.0   \n",
      "1                    0  263358.03               1.1           136  1.0   \n",
      "2                    0  162000.00               1.3           129  1.0   \n",
      "3                    0  210000.00               1.9           137  NaN   \n",
      "4                    0  327000.00               2.7           116  0.0   \n",
      "\n",
      "   smoking  time  DEATH_EVENT  \n",
      "0        0   4.0            1  \n",
      "1        0   6.0            1  \n",
      "2        1   7.0            1  \n",
      "3        0   7.0            1  \n",
      "4        0   NaN            1  \n"
     ]
    }
   ],
   "source": [
    "data.loc[1, 'age'] = None  \n",
    "data.loc[3, 'sex'] = None\n",
    "data.loc[4, 'time'] = None \n",
    "\n",
    "# Check if missing value introduced successfully\n",
    "print(\"\\nDataset with Missing Values:\")\n",
    "print(data.head())\n",
    "\n",
    "\n"
   ]
  },
  {
   "cell_type": "code",
   "execution_count": 9,
   "id": "c9bcee21",
   "metadata": {},
   "outputs": [],
   "source": [
    "# Explain: The missing values can be seen in age, sex and time."
   ]
  },
  {
   "cell_type": "code",
   "execution_count": 11,
   "id": "e72e26b5-4d1d-474c-a41b-f9f4cdbc685b",
   "metadata": {
    "tags": []
   },
   "outputs": [
    {
     "name": "stderr",
     "output_type": "stream",
     "text": [
      "C:\\Users\\saads\\AppData\\Local\\Temp\\ipykernel_20548\\1799123261.py:2: FutureWarning: DataFrame.fillna with 'method' is deprecated and will raise in a future version. Use obj.ffill() or obj.bfill() instead.\n",
      "  data_backfilled = data.fillna(method='bfill')\n"
     ]
    }
   ],
   "source": [
    "# Method 1: Backfilling\n",
    "data_backfilled = data.fillna(method='bfill')\n",
    "\n",
    "# Method 2: Mean Imputation\n",
    "data_mean_imputed = data.fillna(data.mean())\n",
    "\n",
    "# Method 3: Dropping Rows with Missing Values\n",
    "data_dropped = data.dropna()\n"
   ]
  },
  {
   "cell_type": "code",
   "execution_count": 12,
   "id": "ea40c0b0-66a4-43e8-86ff-a158cdecc18c",
   "metadata": {
    "tags": []
   },
   "outputs": [
    {
     "name": "stdout",
     "output_type": "stream",
     "text": [
      "\n",
      "Dataset after Backfilling:\n",
      "    age  anaemia  creatinine_phosphokinase  diabetes  ejection_fraction  \\\n",
      "0  75.0        0                       582         0                 20   \n",
      "1  65.0        0                      7861         0                 38   \n",
      "2  65.0        0                       146         0                 20   \n",
      "3  50.0        1                       111         0                 20   \n",
      "4  65.0        1                       160         1                 20   \n",
      "\n",
      "   high_blood_pressure  platelets  serum_creatinine  serum_sodium  sex  \\\n",
      "0                    1  265000.00               1.9           130  1.0   \n",
      "1                    0  263358.03               1.1           136  1.0   \n",
      "2                    0  162000.00               1.3           129  1.0   \n",
      "3                    0  210000.00               1.9           137  0.0   \n",
      "4                    0  327000.00               2.7           116  0.0   \n",
      "\n",
      "   smoking  time  DEATH_EVENT  \n",
      "0        0   4.0            1  \n",
      "1        0   6.0            1  \n",
      "2        1   7.0            1  \n",
      "3        0   7.0            1  \n",
      "4        0   8.0            1  \n",
      "\n",
      "Dataset after Mean Imputation:\n",
      "        age  anaemia  creatinine_phosphokinase  diabetes  ejection_fraction  \\\n",
      "0  75.00000        0                       582         0                 20   \n",
      "1  60.85347        0                      7861         0                 38   \n",
      "2  65.00000        0                       146         0                 20   \n",
      "3  50.00000        1                       111         0                 20   \n",
      "4  65.00000        1                       160         1                 20   \n",
      "\n",
      "   high_blood_pressure  platelets  serum_creatinine  serum_sodium       sex  \\\n",
      "0                    1  265000.00               1.9           130  1.000000   \n",
      "1                    0  263358.03               1.1           136  1.000000   \n",
      "2                    0  162000.00               1.3           129  1.000000   \n",
      "3                    0  210000.00               1.9           137  0.647651   \n",
      "4                    0  327000.00               2.7           116  0.000000   \n",
      "\n",
      "   smoking        time  DEATH_EVENT  \n",
      "0        0    4.000000            1  \n",
      "1        0    6.000000            1  \n",
      "2        1    7.000000            1  \n",
      "3        0    7.000000            1  \n",
      "4        0  130.671141            1  \n",
      "\n",
      "Dataset after Dropping Rows with Missing Values:\n",
      "    age  anaemia  creatinine_phosphokinase  diabetes  ejection_fraction  \\\n",
      "0  75.0        0                       582         0                 20   \n",
      "2  65.0        0                       146         0                 20   \n",
      "5  90.0        1                        47         0                 40   \n",
      "6  75.0        1                       246         0                 15   \n",
      "7  60.0        1                       315         1                 60   \n",
      "\n",
      "   high_blood_pressure  platelets  serum_creatinine  serum_sodium  sex  \\\n",
      "0                    1   265000.0               1.9           130  1.0   \n",
      "2                    0   162000.0               1.3           129  1.0   \n",
      "5                    1   204000.0               2.1           132  1.0   \n",
      "6                    0   127000.0               1.2           137  1.0   \n",
      "7                    0   454000.0               1.1           131  1.0   \n",
      "\n",
      "   smoking  time  DEATH_EVENT  \n",
      "0        0   4.0            1  \n",
      "2        1   7.0            1  \n",
      "5        1   8.0            1  \n",
      "6        0  10.0            1  \n",
      "7        1  10.0            1  \n"
     ]
    }
   ],
   "source": [
    "# Display the cleaned datasets\n",
    "print(\"\\nDataset after Backfilling:\")\n",
    "print(data_backfilled.head())\n",
    "\n",
    "print(\"\\nDataset after Mean Imputation:\")\n",
    "print(data_mean_imputed.head())\n",
    "\n",
    "print(\"\\nDataset after Dropping Rows with Missing Values:\")\n",
    "print(data_dropped.head())"
   ]
  },
  {
   "cell_type": "code",
   "execution_count": 13,
   "id": "a1a06b22-b15f-4045-84fa-022f52e9eea5",
   "metadata": {
    "tags": []
   },
   "outputs": [
    {
     "name": "stdout",
     "output_type": "stream",
     "text": [
      "Data Types of Columns:\n",
      "age                         float64\n",
      "anaemia                       int64\n",
      "creatinine_phosphokinase      int64\n",
      "diabetes                      int64\n",
      "ejection_fraction             int64\n",
      "high_blood_pressure           int64\n",
      "platelets                   float64\n",
      "serum_creatinine            float64\n",
      "serum_sodium                  int64\n",
      "sex                         float64\n",
      "smoking                       int64\n",
      "time                        float64\n",
      "DEATH_EVENT                   int64\n",
      "dtype: object\n"
     ]
    }
   ],
   "source": [
    "#Perform profiling (web based), profile report. (See file 1-EDA-Profiling.ipynb)\n",
    "\n",
    "# Get the data types of columns\n",
    "column_data_types = data.dtypes\n",
    "\n",
    "# Print the data types of columns\n",
    "print(\"Data Types of Columns:\")\n",
    "print(column_data_types)"
   ]
  },
  {
   "cell_type": "code",
   "execution_count": 14,
   "id": "da169a83-f59a-4704-94d6-e0681d1640d3",
   "metadata": {
    "tags": []
   },
   "outputs": [
    {
     "name": "stdout",
     "output_type": "stream",
     "text": [
      "Number of Missing Values in Each Column:\n",
      "age                         1\n",
      "anaemia                     0\n",
      "creatinine_phosphokinase    0\n",
      "diabetes                    0\n",
      "ejection_fraction           0\n",
      "high_blood_pressure         0\n",
      "platelets                   0\n",
      "serum_creatinine            0\n",
      "serum_sodium                0\n",
      "sex                         1\n",
      "smoking                     0\n",
      "time                        1\n",
      "DEATH_EVENT                 0\n",
      "dtype: int64\n"
     ]
    }
   ],
   "source": [
    "# Calculate the number of missing values in each column\n",
    "missing_values_count = data.isnull().sum()\n",
    "\n",
    "# Print the number of missing values in each column\n",
    "print(\"Number of Missing Values in Each Column:\")\n",
    "print(missing_values_count)"
   ]
  },
  {
   "cell_type": "code",
   "execution_count": 15,
   "id": "1db24de3-6b16-4f66-bb7b-930924fa8538",
   "metadata": {
    "tags": []
   },
   "outputs": [
    {
     "name": "stdout",
     "output_type": "stream",
     "text": [
      "Summary Statistics:\n",
      "              age     anaemia  creatinine_phosphokinase    diabetes  \\\n",
      "count  298.000000  299.000000                299.000000  299.000000   \n",
      "mean    60.853470    0.431438                581.839465    0.418060   \n",
      "std     11.909991    0.496107                970.287881    0.494067   \n",
      "min     40.000000    0.000000                 23.000000    0.000000   \n",
      "25%     51.000000    0.000000                116.500000    0.000000   \n",
      "50%     60.000000    0.000000                250.000000    0.000000   \n",
      "75%     70.000000    1.000000                582.000000    1.000000   \n",
      "max     95.000000    1.000000               7861.000000    1.000000   \n",
      "\n",
      "       ejection_fraction  high_blood_pressure      platelets  \\\n",
      "count         299.000000           299.000000     299.000000   \n",
      "mean           38.083612             0.351171  263358.029264   \n",
      "std            11.834841             0.478136   97804.236869   \n",
      "min            14.000000             0.000000   25100.000000   \n",
      "25%            30.000000             0.000000  212500.000000   \n",
      "50%            38.000000             0.000000  262000.000000   \n",
      "75%            45.000000             1.000000  303500.000000   \n",
      "max            80.000000             1.000000  850000.000000   \n",
      "\n",
      "       serum_creatinine  serum_sodium         sex    smoking        time  \\\n",
      "count         299.00000    299.000000  298.000000  299.00000  298.000000   \n",
      "mean            1.39388    136.625418    0.647651    0.32107  130.671141   \n",
      "std             1.03451      4.412477    0.478506    0.46767   77.419313   \n",
      "min             0.50000    113.000000    0.000000    0.00000    4.000000   \n",
      "25%             0.90000    134.000000    0.000000    0.00000   73.250000   \n",
      "50%             1.10000    137.000000    1.000000    0.00000  115.000000   \n",
      "75%             1.40000    140.000000    1.000000    1.00000  204.000000   \n",
      "max             9.40000    148.000000    1.000000    1.00000  285.000000   \n",
      "\n",
      "       DEATH_EVENT  \n",
      "count    299.00000  \n",
      "mean       0.32107  \n",
      "std        0.46767  \n",
      "min        0.00000  \n",
      "25%        0.00000  \n",
      "50%        0.00000  \n",
      "75%        1.00000  \n",
      "max        1.00000  \n"
     ]
    }
   ],
   "source": [
    "# Generate summary statistics for numerical columns\n",
    "summary_statistics = data.describe()\n",
    "\n",
    "# Print the summary statistics\n",
    "print(\"Summary Statistics:\")\n",
    "print(summary_statistics)"
   ]
  },
  {
   "cell_type": "code",
   "execution_count": 16,
   "id": "52a48ea5-8bd9-485e-8390-c97fdef6016f",
   "metadata": {
    "tags": []
   },
   "outputs": [
    {
     "name": "stdout",
     "output_type": "stream",
     "text": [
      "Correlation Matrix:\n",
      "                               age   anaemia  creatinine_phosphokinase  \\\n",
      "age                       1.000000  0.086716                 -0.076891   \n",
      "anaemia                   0.086716  1.000000                 -0.190741   \n",
      "creatinine_phosphokinase -0.076891 -0.190741                  1.000000   \n",
      "diabetes                 -0.102575 -0.012729                 -0.009639   \n",
      "ejection_fraction         0.060111  0.031557                 -0.044080   \n",
      "high_blood_pressure       0.092197  0.038182                 -0.070590   \n",
      "platelets                -0.052376 -0.043786                  0.024463   \n",
      "serum_creatinine          0.158804  0.052174                 -0.016408   \n",
      "serum_sodium             -0.046220  0.041882                  0.059550   \n",
      "sex                       0.069157 -0.097908                  0.081096   \n",
      "smoking                   0.017555 -0.107290                  0.002421   \n",
      "time                     -0.226936 -0.136206                 -0.011704   \n",
      "DEATH_EVENT               0.257144  0.066270                  0.062728   \n",
      "\n",
      "                          diabetes  ejection_fraction  high_blood_pressure  \\\n",
      "age                      -0.102575           0.060111             0.092197   \n",
      "anaemia                  -0.012729           0.031557             0.038182   \n",
      "creatinine_phosphokinase -0.009639          -0.044080            -0.070590   \n",
      "diabetes                  1.000000          -0.004850            -0.012732   \n",
      "ejection_fraction        -0.004850           1.000000             0.024445   \n",
      "high_blood_pressure      -0.012732           0.024445             1.000000   \n",
      "platelets                 0.092193           0.072177             0.049963   \n",
      "serum_creatinine         -0.046975          -0.011302            -0.004935   \n",
      "serum_sodium             -0.089551           0.175902             0.037109   \n",
      "sex                      -0.155967          -0.145311            -0.102985   \n",
      "smoking                  -0.147173          -0.067315            -0.055711   \n",
      "time                      0.040235           0.033900            -0.201360   \n",
      "DEATH_EVENT              -0.001943          -0.268603             0.079351   \n",
      "\n",
      "                          platelets  serum_creatinine  serum_sodium       sex  \\\n",
      "age                       -0.052376          0.158804     -0.046220  0.069157   \n",
      "anaemia                   -0.043786          0.052174      0.041882 -0.097908   \n",
      "creatinine_phosphokinase   0.024463         -0.016408      0.059550  0.081096   \n",
      "diabetes                   0.092193         -0.046975     -0.089551 -0.155967   \n",
      "ejection_fraction          0.072177         -0.011302      0.175902 -0.145311   \n",
      "high_blood_pressure        0.049963         -0.004935      0.037109 -0.102985   \n",
      "platelets                  1.000000         -0.041198      0.062125 -0.123946   \n",
      "serum_creatinine          -0.041198          1.000000     -0.189095  0.005768   \n",
      "serum_sodium               0.062125         -0.189095      1.000000 -0.027802   \n",
      "sex                       -0.123946          0.005768     -0.027802  1.000000   \n",
      "smoking                    0.028234         -0.027414      0.004813  0.448352   \n",
      "time                       0.014034         -0.143605      0.065571 -0.019128   \n",
      "DEATH_EVENT               -0.049139          0.294278     -0.195204 -0.007942   \n",
      "\n",
      "                           smoking      time  DEATH_EVENT  \n",
      "age                       0.017555 -0.226936     0.257144  \n",
      "anaemia                  -0.107290 -0.136206     0.066270  \n",
      "creatinine_phosphokinase  0.002421 -0.011704     0.062728  \n",
      "diabetes                 -0.147173  0.040235    -0.001943  \n",
      "ejection_fraction        -0.067315  0.033900    -0.268603  \n",
      "high_blood_pressure      -0.055711 -0.201360     0.079351  \n",
      "platelets                 0.028234  0.014034    -0.049139  \n",
      "serum_creatinine         -0.027414 -0.143605     0.294278  \n",
      "serum_sodium              0.004813  0.065571    -0.195204  \n",
      "sex                       0.448352 -0.019128    -0.007942  \n",
      "smoking                   1.000000 -0.026613    -0.012623  \n",
      "time                     -0.026613  1.000000    -0.523307  \n",
      "DEATH_EVENT              -0.012623 -0.523307     1.000000  \n"
     ]
    }
   ],
   "source": [
    "# Compute the correlation matrix\n",
    "correlation_matrix = data.corr()\n",
    "\n",
    "# Print the correlation matrix\n",
    "print(\"Correlation Matrix:\")\n",
    "print(correlation_matrix)"
   ]
  },
  {
   "cell_type": "code",
   "execution_count": 17,
   "id": "7778759d-6155-4d0f-b871-6bf82dc6646c",
   "metadata": {
    "tags": []
   },
   "outputs": [
    {
     "name": "stdout",
     "output_type": "stream",
     "text": [
      "Unique values in age:\n",
      "[75.       nan 65.    50.    90.    60.    80.    62.    45.    49.\n",
      " 82.    87.    70.    48.    68.    53.    95.    58.    94.    85.\n",
      " 69.    72.    51.    57.    55.    42.    41.    67.    79.    59.\n",
      " 44.    63.    86.    66.    43.    46.    61.    81.    52.    64.\n",
      " 40.    60.667 73.    77.    78.    54.    47.    56.   ]\n",
      "\n",
      "Unique values in anaemia:\n",
      "[0 1]\n",
      "\n",
      "Unique values in creatinine_phosphokinase:\n",
      "[ 582 7861  146  111  160   47  246  315  157  123   81  231  981  168\n",
      "   80  379  149  125   52  128  220   63  148  112  122   60   70   23\n",
      "  249  159   94  855 2656  235  124  571  127  588 1380  553  129  577\n",
      "   91 3964   69  260  371   75  607  789  364 7702  318  109   68  250\n",
      "  110  161  113 5882  224   92  102  203  336   76   55  280   78   84\n",
      "  115   66  897  154  144  133  514   59  156   61  305  898 5209   53\n",
      "  328  748 1876  936  292  369  143  754  400   96  737  358  200  248\n",
      "  270 1808 1082  719  193 4540  646  281 1548  805  291  482  943  185\n",
      "  132 1610 2261  233   30 1846  335   58  910   72  130 2334 2442  776\n",
      "  196  835 3966  171  198   95 1419  478  176  395   99  145  104 1896\n",
      "  151  244   62  121  418  167 1211 1767  308   97   64  101  212 2281\n",
      "  972  131  135 1202  427 1021  118   86  675   57 2794   56  211  166\n",
      "   93  707  119  232  720  180   90 1185 2017  624  207 2522  572  245\n",
      "   88  446  191  326  655  258  298 1199  213  257  618 1051 2695 1688\n",
      "   54  170  253  892  337  615  320  190  103 1820 2060 2413]\n",
      "\n",
      "Unique values in diabetes:\n",
      "[0 1]\n",
      "\n",
      "Unique values in ejection_fraction:\n",
      "[20 38 40 15 60 65 35 25 30 50 14 55 45 62 80 17 70]\n",
      "\n",
      "Unique values in high_blood_pressure:\n",
      "[1 0]\n",
      "\n",
      "Unique values in platelets:\n",
      "[265000.   263358.03 162000.   210000.   327000.   204000.   127000.\n",
      " 454000.   388000.   368000.   253000.   136000.   276000.   427000.\n",
      "  47000.   262000.   166000.   237000.    87000.   297000.   289000.\n",
      " 149000.   196000.   284000.   153000.   200000.   360000.   319000.\n",
      " 302000.   188000.   228000.   226000.   321000.   305000.   329000.\n",
      " 185000.   218000.   194000.   310000.   271000.   451000.   140000.\n",
      " 395000.   418000.   351000.   255000.   461000.   223000.   216000.\n",
      " 254000.   390000.   385000.   119000.   213000.   274000.   244000.\n",
      " 497000.   374000.   122000.   243000.   266000.   317000.   283000.\n",
      " 324000.   293000.   172000.   406000.   173000.   304000.   235000.\n",
      " 181000.   249000.   219000.   318000.   221000.   298000.   286000.\n",
      " 621000.   263000.   850000.   306000.   252000.   328000.   164000.\n",
      " 507000.   203000.   217000.   300000.   267000.   227000.   250000.\n",
      " 295000.   231000.   211000.   348000.   229000.   338000.   242000.\n",
      " 225000.   184000.   277000.   362000.   174000.   448000.    75000.\n",
      " 334000.   192000.   220000.    70000.   270000.   325000.   176000.\n",
      " 189000.   281000.   337000.   105000.   132000.   279000.   303000.\n",
      " 224000.   389000.   365000.   201000.   275000.   350000.   309000.\n",
      " 260000.   160000.   126000.   259000.    73000.   377000.   212000.\n",
      " 186000.   268000.   147000.   481000.   290000.   358000.   151000.\n",
      " 371000.   130000.   504000.   141000.    62000.   330000.   248000.\n",
      " 257000.   533000.   264000.   282000.   314000.   246000.   301000.\n",
      " 404000.   236000.   294000.   233000.   308000.   198000.   208000.\n",
      " 133000.   222000.   215000.   150000.   422000.    25100.   232000.\n",
      " 241000.    51000.   336000.   543000.   382000.   179000.   155000.\n",
      " 742000.  ]\n",
      "\n",
      "Unique values in serum_creatinine:\n",
      "[1.9  1.1  1.3  2.7  2.1  1.2  1.5  9.4  4.   0.9  1.   0.8  1.6  1.83\n",
      " 5.8  3.   3.5  2.3  0.6  4.4  1.4  6.8  2.2  2.   1.18 2.9  0.7  1.7\n",
      " 2.5  1.8  3.2  0.75 3.7  3.4  6.1  2.4  9.   5.   0.5  3.8 ]\n",
      "\n",
      "Unique values in serum_sodium:\n",
      "[130 136 129 137 116 132 131 138 133 140 127 121 135 134 144 128 145 142\n",
      " 139 146 141 143 126 124 113 125 148]\n",
      "\n",
      "Unique values in sex:\n",
      "[ 1. nan  0.]\n",
      "\n",
      "Unique values in smoking:\n",
      "[0 1]\n",
      "\n",
      "Unique values in time:\n",
      "[  4.   6.   7.  nan   8.  10.  11.  12.  13.  14.  15.  16.  20.  22.\n",
      "  23.  24.  26.  27.  28.  29.  30.  31.  32.  33.  35.  38.  40.  41.\n",
      "  42.  43.  44.  45.  50.  54.  55.  59.  60.  61.  63.  64.  65.  66.\n",
      "  67.  68.  71.  72.  73.  74.  75.  76.  77.  78.  79.  80.  82.  83.\n",
      "  85.  86.  87.  88.  90.  91.  94.  95.  96.  97. 100. 104. 105. 106.\n",
      " 107. 108. 109. 110. 111. 112. 113. 115. 117. 118. 119. 120. 121. 123.\n",
      " 126. 129. 130. 134. 135. 140. 145. 146. 147. 148. 150. 154. 162. 170.\n",
      " 171. 172. 174. 175. 180. 185. 186. 187. 188. 192. 193. 194. 195. 196.\n",
      " 197. 198. 200. 201. 205. 206. 207. 208. 209. 210. 211. 212. 213. 214.\n",
      " 215. 216. 220. 230. 231. 233. 235. 237. 240. 241. 244. 245. 246. 247.\n",
      " 250. 256. 257. 258. 270. 271. 278. 280. 285.]\n",
      "\n",
      "Unique values in DEATH_EVENT:\n",
      "[1 0]\n",
      "\n"
     ]
    }
   ],
   "source": [
    "# Find unique values in each column\n",
    "unique_values = {}\n",
    "for column in data.columns:\n",
    "    unique_values[column] = data[column].unique()\n",
    "\n",
    "# Print unique values in each column\n",
    "for column, values in unique_values.items():\n",
    "    print(f\"Unique values in {column}:\")\n",
    "    print(values)\n",
    "    print()"
   ]
  },
  {
   "cell_type": "code",
   "execution_count": 18,
   "id": "62ec86e8-d94d-49c3-8154-c5dc9158380f",
   "metadata": {
    "tags": []
   },
   "outputs": [
    {
     "name": "stdout",
     "output_type": "stream",
     "text": [
      "Most frequent value in age: 60.0\n",
      "Most frequent value in anaemia: 0\n",
      "Most frequent value in creatinine_phosphokinase: 582\n",
      "Most frequent value in diabetes: 0\n",
      "Most frequent value in ejection_fraction: 35\n",
      "Most frequent value in high_blood_pressure: 0\n",
      "Most frequent value in platelets: 263358.03\n",
      "Most frequent value in serum_creatinine: 1.0\n",
      "Most frequent value in serum_sodium: 136\n",
      "Most frequent value in sex: 1.0\n",
      "Most frequent value in smoking: 0\n",
      "Most frequent value in time: 187.0\n",
      "Most frequent value in DEATH_EVENT: 0\n"
     ]
    }
   ],
   "source": [
    "# Find the most frequent values in each column\n",
    "most_frequent_values = {}\n",
    "for column in data.columns:\n",
    "    most_frequent_values[column] = data[column].value_counts().idxmax()\n",
    "\n",
    "# Print the most frequent values in each column\n",
    "for column, value in most_frequent_values.items():\n",
    "    print(f\"Most frequent value in {column}: {value}\")"
   ]
  },
  {
   "cell_type": "code",
   "execution_count": 19,
   "id": "d72c3393-ca7d-4170-92b3-2202fc56b0be",
   "metadata": {
    "tags": []
   },
   "outputs": [
    {
     "name": "stdout",
     "output_type": "stream",
     "text": [
      "Quantile Statistics:\n",
      "       age  anaemia  creatinine_phosphokinase  diabetes  ejection_fraction  \\\n",
      "0.25  51.0      0.0                     116.5       0.0               30.0   \n",
      "0.50  60.0      0.0                     250.0       0.0               38.0   \n",
      "0.75  70.0      1.0                     582.0       1.0               45.0   \n",
      "\n",
      "      high_blood_pressure  platelets  serum_creatinine  serum_sodium  sex  \\\n",
      "0.25                  0.0   212500.0               0.9         134.0  0.0   \n",
      "0.50                  0.0   262000.0               1.1         137.0  1.0   \n",
      "0.75                  1.0   303500.0               1.4         140.0  1.0   \n",
      "\n",
      "      smoking    time  DEATH_EVENT  \n",
      "0.25      0.0   73.25          0.0  \n",
      "0.50      0.0  115.00          0.0  \n",
      "0.75      1.0  204.00          1.0  \n"
     ]
    }
   ],
   "source": [
    "# Compute quantile statistics for numerical columns\n",
    "quantile_statistics = data.quantile([0.25, 0.5, 0.75])\n",
    "\n",
    "# Print quantile statistics\n",
    "print(\"Quantile Statistics:\")\n",
    "print(quantile_statistics)"
   ]
  },
  {
   "cell_type": "code",
   "execution_count": 20,
   "id": "ca143e6e-272e-4d78-b642-ca65ec2b3c2c",
   "metadata": {
    "tags": []
   },
   "outputs": [
    {
     "data": {
      "image/png": "[encoded data removed]",
      "text/plain": [
       "<Figure size 800x600 with 1 Axes>"
      ]
     },
     "metadata": {},
     "output_type": "display_data"
    }
   ],
   "source": [
    "# Visualisation: Show at least 3 plots using matplotlib. \n",
    "\n",
    "import matplotlib.pyplot as plt\n",
    "\n",
    "# Plot 1: Histogram of 'age'\n",
    "plt.figure(figsize=(8, 6))\n",
    "plt.hist(data['age'], bins=20, color='skyblue', edgecolor='black')\n",
    "plt.title('Distribution of Age')\n",
    "plt.xlabel('Age')\n",
    "plt.ylabel('Frequency')\n",
    "plt.grid(True)\n",
    "plt.show()"
   ]
  },
  {
   "cell_type": "code",
   "execution_count": 21,
   "id": "c3a61b38-af88-4cbb-b9df-51a151697e35",
   "metadata": {
    "tags": []
   },
   "outputs": [
    {
     "data": {
      "image/png": "[encoded data removed]",
      "text/plain": [
       "<Figure size 800x600 with 1 Axes>"
      ]
     },
     "metadata": {},
     "output_type": "display_data"
    }
   ],
   "source": [
    "# Plot 2: Bar plot of 'sex'\n",
    "plt.figure(figsize=(8, 6))\n",
    "data['sex'].value_counts().plot(kind='bar', color=['lightcoral', 'skyblue'])\n",
    "plt.title('Distribution of Gender')\n",
    "plt.xlabel('Gender')\n",
    "plt.ylabel('Count')\n",
    "plt.xticks([0, 1], ['Female', 'Male'], rotation=0)\n",
    "plt.grid(axis='y')\n",
    "plt.show()"
   ]
  },
  {
   "cell_type": "code",
   "execution_count": 22,
   "id": "7e7a2620-f677-4ac9-b632-cc2178619cc9",
   "metadata": {
    "tags": []
   },
   "outputs": [
    {
     "data": {
      "image/png": "[encoded data removed]",
      "text/plain": [
       "<Figure size 800x600 with 1 Axes>"
      ]
     },
     "metadata": {},
     "output_type": "display_data"
    }
   ],
   "source": [
    "# Plot 3: Scatter plot of 'time'\n",
    "plt.figure(figsize=(8, 6))\n",
    "plt.scatter(range(len(data['time'])), data['time'], color='skyblue')\n",
    "plt.title('Scatter Plot of Time')\n",
    "plt.xlabel('Index')\n",
    "plt.ylabel('Time')\n",
    "plt.grid(True)\n",
    "plt.show()"
   ]
  },
  {
   "cell_type": "code",
   "execution_count": null,
   "id": "0e69a1df-fb96-4781-947d-0794bc511827",
   "metadata": {
    "tags": []
   },
   "outputs": [],
   "source": []
  },
  {
   "cell_type": "code",
   "execution_count": null,
   "id": "5103b468-5316-466f-b103-857e63fe954f",
   "metadata": {},
   "outputs": [],
   "source": []
  }
 ],
 "metadata": {
  "kernelspec": {
   "display_name": "Python 3 (ipykernel)",
   "language": "python",
   "name": "python3"
  },
  "language_info": {
   "codemirror_mode": {
    "name": "ipython",
    "version": 3
   },
   "file_extension": ".py",
   "mimetype": "text/x-python",
   "name": "python",
   "nbconvert_exporter": "python",
   "pygments_lexer": "ipython3",
   "version": "3.11.5"
  }
 },
 "nbformat": 4,
 "nbformat_minor": 5
}
